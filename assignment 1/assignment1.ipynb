{
 "cells": [
  {
   "cell_type": "code",
   "execution_count": 1,
   "id": "7fe40fba",
   "metadata": {},
   "outputs": [
    {
     "name": "stdout",
     "output_type": "stream",
     "text": [
      "Twinkle, twinkle, little star, \n",
      "\tHow I wonder what you are! \n",
      "\t\tUp above the world so high, \n",
      "\t\tLike a diamond in the sky. \n",
      "Twinkle, twinkle, little star, \n",
      "\tHow I wonder what you are!\n"
     ]
    }
   ],
   "source": [
    "#Q1.Write a Python program to print the following string in a specific format.\n",
    "print(\"Twinkle, twinkle, little star, \\n\\tHow I wonder what you are! \\n\\t\\tUp above the world so high, \\n\\t\\tLike a diamond in the sky. \\nTwinkle, twinkle, little star, \\n\\tHow I wonder what you are!\")\n"
   ]
  },
  {
   "cell_type": "code",
   "execution_count": 2,
   "id": "dc0b8fd0",
   "metadata": {},
   "outputs": [
    {
     "name": "stdout",
     "output_type": "stream",
     "text": [
      "Python version\n",
      "3.9.7 (default, Sep 16 2021, 16:59:28) [MSC v.1916 64 bit (AMD64)]\n",
      "Version info.\n",
      "sys.version_info(major=3, minor=9, micro=7, releaselevel='final', serial=0)\n"
     ]
    }
   ],
   "source": [
    "#Q2.Write a Python program to get the Python version you are using\n",
    "import sys\n",
    "print(\"Python version\")\n",
    "print (sys.version)\n",
    "print(\"Version info.\")\n",
    "print (sys.version_info)"
   ]
  },
  {
   "cell_type": "code",
   "execution_count": 3,
   "id": "d74ddfd0",
   "metadata": {},
   "outputs": [
    {
     "name": "stdout",
     "output_type": "stream",
     "text": [
      "Current date and time : \n",
      "2022-01-03 23:19:35\n"
     ]
    }
   ],
   "source": [
    "#Q3.Write a Python program to display the current date and time.\n",
    "import datetime\n",
    "now = datetime.datetime.now()\n",
    "print (\"Current date and time : \")\n",
    "print (now.strftime(\"%Y-%m-%d %H:%M:%S\"))"
   ]
  },
  {
   "cell_type": "code",
   "execution_count": 4,
   "id": "d89500f5",
   "metadata": {},
   "outputs": [
    {
     "name": "stdout",
     "output_type": "stream",
     "text": [
      "Radius of a circle: 6\n",
      "the area of circle is: 113.09733552923255\n"
     ]
    }
   ],
   "source": [
    "#Q4:Write a Python program which accepts the radius of a circle from the user and compute the area?\n",
    "import math\n",
    "radius=float(input(\"Radius of a circle: \"))\n",
    "area = math.pi * radius * radius\n",
    "print(\"the area of circle is: {0}\".format(area))"
   ]
  },
  {
   "cell_type": "code",
   "execution_count": 5,
   "id": "18de89e5",
   "metadata": {},
   "outputs": [
    {
     "name": "stdout",
     "output_type": "stream",
     "text": [
      "Input your First Name : Muhammad\n",
      "Input your Last Name : Amin\n",
      "Hello  Amin Muhammad\n"
     ]
    }
   ],
   "source": [
    "#Q5:Write a Python program which accepts the user's first and last name and print them inreverse order with a space between them.\n",
    "fname = input(\"Input your First Name : \")\n",
    "lname = input(\"Input your Last Name : \")\n",
    "print (\"Hello  \" + lname + \" \" + fname)"
   ]
  },
  {
   "cell_type": "code",
   "execution_count": 6,
   "id": "658a5e3d",
   "metadata": {},
   "outputs": [
    {
     "name": "stdout",
     "output_type": "stream",
     "text": [
      "number1= 4\n",
      "number2= 6\n",
      "10\n"
     ]
    }
   ],
   "source": [
    "#Q6.Write a python program which takes two inputs from user and print them addition\n",
    "a=int(input(\"number1= \"));\n",
    "b=int(input(\"number2= \"));\n",
    "c = a + b;\n",
    "print(c);"
   ]
  },
  {
   "cell_type": "code",
   "execution_count": null,
   "id": "d5d668d4",
   "metadata": {},
   "outputs": [],
   "source": []
  }
 ],
 "metadata": {
  "kernelspec": {
   "display_name": "Python 3 (ipykernel)",
   "language": "python",
   "name": "python3"
  },
  "language_info": {
   "codemirror_mode": {
    "name": "ipython",
    "version": 3
   },
   "file_extension": ".py",
   "mimetype": "text/x-python",
   "name": "python",
   "nbconvert_exporter": "python",
   "pygments_lexer": "ipython3",
   "version": "3.9.7"
  }
 },
 "nbformat": 4,
 "nbformat_minor": 5
}
